{
 "cells": [
  {
   "cell_type": "code",
   "execution_count": 6,
   "metadata": {
    "collapsed": false
   },
   "outputs": [],
   "source": [
    "import requests\n",
    "\n",
    "#api_url = 'https://www.quandl.com/api/v1/datasets/WIKI/%s.json' # stock\n",
    "api_url = 'https://www.quandl.com/api/v1/datasets/WIKI/%s.csv'\n",
    "session = requests.Session()\n",
    "session.mount('http://', requests.adapters.HTTPAdapter(max_retries=3))\n",
    "raw_data = session.get(api_url)"
   ]
  },
  {
   "cell_type": "code",
   "execution_count": 7,
   "metadata": {
    "collapsed": false
   },
   "outputs": [
    {
     "data": {
      "text/plain": [
       "<Response [400]>"
      ]
     },
     "execution_count": 7,
     "metadata": {},
     "output_type": "execute_result"
    }
   ],
   "source": [
    "raw_data"
   ]
  },
  {
   "cell_type": "code",
   "execution_count": 8,
   "metadata": {
    "collapsed": false
   },
   "outputs": [
    {
     "ename": "SyntaxError",
     "evalue": "invalid syntax (<ipython-input-8-11c1d9dbbf67>, line 4)",
     "output_type": "error",
     "traceback": [
      "\u001b[0;36m  File \u001b[0;32m\"<ipython-input-8-11c1d9dbbf67>\"\u001b[0;36m, line \u001b[0;32m4\u001b[0m\n\u001b[0;31m    curl \"https://www.quandl.com/api/v3/datasets/WIKI/AAPL/data.csv?end_date=2015-05-27\" -X GET\u001b[0m\n\u001b[0m                                                                                       ^\u001b[0m\n\u001b[0;31mSyntaxError\u001b[0m\u001b[0;31m:\u001b[0m invalid syntax\n"
     ]
    }
   ],
   "source": [
    "api_url = 'https://www.quandl.com/api/v3/datasets/:database_code/:dataset_code/data'\n",
    "\n",
    "session = requests.Session()\n",
    "curl \"https://www.quandl.com/api/v3/datasets/WIKI/AAPL/data.csv?end_date=2015-05-27\" -X GET "
   ]
  },
  {
   "cell_type": "code",
   "execution_count": 1,
   "metadata": {
    "collapsed": false
   },
   "outputs": [
    {
     "ename": "ImportError",
     "evalue": "No module named quandl",
     "output_type": "error",
     "traceback": [
      "\u001b[0;31m---------------------------------------------------------------------------\u001b[0m",
      "\u001b[0;31mImportError\u001b[0m                               Traceback (most recent call last)",
      "\u001b[0;32m<ipython-input-1-ab7fa5ad38a5>\u001b[0m in \u001b[0;36m<module>\u001b[0;34m()\u001b[0m\n\u001b[0;32m----> 1\u001b[0;31m \u001b[0;32mimport\u001b[0m \u001b[0mquandl\u001b[0m\u001b[0;34m\u001b[0m\u001b[0m\n\u001b[0m",
      "\u001b[0;31mImportError\u001b[0m: No module named quandl"
     ]
    }
   ],
   "source": [
    "import quandl\n"
   ]
  },
  {
   "cell_type": "code",
   "execution_count": 2,
   "metadata": {
    "collapsed": false
   },
   "outputs": [],
   "source": [
    "import Quandl"
   ]
  },
  {
   "cell_type": "code",
   "execution_count": 29,
   "metadata": {
    "collapsed": true
   },
   "outputs": [],
   "source": [
    "import pandas as pd\n",
    "import os\n",
    "from Quandl import Quandl\n",
    "import time\n",
    "import numpy as np\n",
    "from matplotlib import pyplot as plt\n",
    "from matplotlib.font_manager import FontProperties\n",
    "%matplotlib inline  "
   ]
  },
  {
   "cell_type": "code",
   "execution_count": 2,
   "metadata": {
    "collapsed": true
   },
   "outputs": [],
   "source": [
    "auth_tok = \"VJmYz-1u3Zf6P3ocrkUN\"\n",
    "\n",
    "data = Quandl.get(\"WIKI/AAPL\", trim_start = \"2015-09-01\", trim_end = \"2015-12-01\", authtoken=auth_tok)"
   ]
  },
  {
   "cell_type": "code",
   "execution_count": 6,
   "metadata": {
    "collapsed": false
   },
   "outputs": [
    {
     "data": {
      "text/html": [
       "<div>\n",
       "<table border=\"1\" class=\"dataframe\">\n",
       "  <thead>\n",
       "    <tr style=\"text-align: right;\">\n",
       "      <th></th>\n",
       "      <th>Open</th>\n",
       "      <th>High</th>\n",
       "      <th>Low</th>\n",
       "      <th>Close</th>\n",
       "      <th>Volume</th>\n",
       "      <th>Ex-Dividend</th>\n",
       "      <th>Split Ratio</th>\n",
       "      <th>Adj. Open</th>\n",
       "      <th>Adj. High</th>\n",
       "      <th>Adj. Low</th>\n",
       "      <th>Adj. Close</th>\n",
       "      <th>Adj. Volume</th>\n",
       "    </tr>\n",
       "    <tr>\n",
       "      <th>Date</th>\n",
       "      <th></th>\n",
       "      <th></th>\n",
       "      <th></th>\n",
       "      <th></th>\n",
       "      <th></th>\n",
       "      <th></th>\n",
       "      <th></th>\n",
       "      <th></th>\n",
       "      <th></th>\n",
       "      <th></th>\n",
       "      <th></th>\n",
       "      <th></th>\n",
       "    </tr>\n",
       "  </thead>\n",
       "  <tbody>\n",
       "    <tr>\n",
       "      <th>2015-09-01</th>\n",
       "      <td>110.18</td>\n",
       "      <td>111.88</td>\n",
       "      <td>107.360</td>\n",
       "      <td>107.96</td>\n",
       "      <td>75390404</td>\n",
       "      <td>0</td>\n",
       "      <td>1</td>\n",
       "      <td>109.708215</td>\n",
       "      <td>111.400935</td>\n",
       "      <td>106.900290</td>\n",
       "      <td>107.497721</td>\n",
       "      <td>75390404</td>\n",
       "    </tr>\n",
       "    <tr>\n",
       "      <th>2015-09-02</th>\n",
       "      <td>110.00</td>\n",
       "      <td>112.34</td>\n",
       "      <td>109.131</td>\n",
       "      <td>112.34</td>\n",
       "      <td>59132119</td>\n",
       "      <td>0</td>\n",
       "      <td>1</td>\n",
       "      <td>109.528986</td>\n",
       "      <td>111.858966</td>\n",
       "      <td>108.663707</td>\n",
       "      <td>111.858966</td>\n",
       "      <td>59132119</td>\n",
       "    </tr>\n",
       "    <tr>\n",
       "      <th>2015-09-03</th>\n",
       "      <td>112.49</td>\n",
       "      <td>112.78</td>\n",
       "      <td>110.040</td>\n",
       "      <td>110.37</td>\n",
       "      <td>52760161</td>\n",
       "      <td>0</td>\n",
       "      <td>1</td>\n",
       "      <td>112.008323</td>\n",
       "      <td>112.297082</td>\n",
       "      <td>109.568814</td>\n",
       "      <td>109.897401</td>\n",
       "      <td>52760161</td>\n",
       "    </tr>\n",
       "    <tr>\n",
       "      <th>2015-09-04</th>\n",
       "      <td>108.97</td>\n",
       "      <td>110.45</td>\n",
       "      <td>108.510</td>\n",
       "      <td>109.27</td>\n",
       "      <td>49478188</td>\n",
       "      <td>0</td>\n",
       "      <td>1</td>\n",
       "      <td>108.503396</td>\n",
       "      <td>109.977059</td>\n",
       "      <td>108.045366</td>\n",
       "      <td>108.802111</td>\n",
       "      <td>49478188</td>\n",
       "    </tr>\n",
       "    <tr>\n",
       "      <th>2015-09-08</th>\n",
       "      <td>111.65</td>\n",
       "      <td>112.56</td>\n",
       "      <td>110.320</td>\n",
       "      <td>112.21</td>\n",
       "      <td>53458236</td>\n",
       "      <td>0</td>\n",
       "      <td>1</td>\n",
       "      <td>111.171920</td>\n",
       "      <td>112.078024</td>\n",
       "      <td>109.847615</td>\n",
       "      <td>111.729522</td>\n",
       "      <td>53458236</td>\n",
       "    </tr>\n",
       "  </tbody>\n",
       "</table>\n",
       "</div>"
      ],
      "text/plain": [
       "              Open    High      Low   Close    Volume  Ex-Dividend  \\\n",
       "Date                                                                 \n",
       "2015-09-01  110.18  111.88  107.360  107.96  75390404            0   \n",
       "2015-09-02  110.00  112.34  109.131  112.34  59132119            0   \n",
       "2015-09-03  112.49  112.78  110.040  110.37  52760161            0   \n",
       "2015-09-04  108.97  110.45  108.510  109.27  49478188            0   \n",
       "2015-09-08  111.65  112.56  110.320  112.21  53458236            0   \n",
       "\n",
       "            Split Ratio   Adj. Open   Adj. High    Adj. Low  Adj. Close  \\\n",
       "Date                                                                      \n",
       "2015-09-01            1  109.708215  111.400935  106.900290  107.497721   \n",
       "2015-09-02            1  109.528986  111.858966  108.663707  111.858966   \n",
       "2015-09-03            1  112.008323  112.297082  109.568814  109.897401   \n",
       "2015-09-04            1  108.503396  109.977059  108.045366  108.802111   \n",
       "2015-09-08            1  111.171920  112.078024  109.847615  111.729522   \n",
       "\n",
       "            Adj. Volume  \n",
       "Date                     \n",
       "2015-09-01     75390404  \n",
       "2015-09-02     59132119  \n",
       "2015-09-03     52760161  \n",
       "2015-09-04     49478188  \n",
       "2015-09-08     53458236  "
      ]
     },
     "execution_count": 6,
     "metadata": {},
     "output_type": "execute_result"
    }
   ],
   "source": [
    "data.head()"
   ]
  },
  {
   "cell_type": "code",
   "execution_count": 8,
   "metadata": {
    "collapsed": false
   },
   "outputs": [],
   "source": [
    "close_data=data['Close']"
   ]
  },
  {
   "cell_type": "code",
   "execution_count": 9,
   "metadata": {
    "collapsed": false
   },
   "outputs": [
    {
     "data": {
      "text/plain": [
       "Date\n",
       "2015-09-01    107.96\n",
       "2015-09-02    112.34\n",
       "2015-09-03    110.37\n",
       "2015-09-04    109.27\n",
       "2015-09-08    112.21\n",
       "Name: Close, dtype: float64"
      ]
     },
     "execution_count": 9,
     "metadata": {},
     "output_type": "execute_result"
    }
   ],
   "source": [
    "close_data.head()"
   ]
  },
  {
   "cell_type": "code",
   "execution_count": 13,
   "metadata": {
    "collapsed": false
   },
   "outputs": [
    {
     "data": {
      "text/plain": [
       "numpy.float64"
      ]
     },
     "execution_count": 13,
     "metadata": {},
     "output_type": "execute_result"
    }
   ],
   "source": [
    "type(close_data[0])"
   ]
  },
  {
   "cell_type": "code",
   "execution_count": 16,
   "metadata": {
    "collapsed": false
   },
   "outputs": [],
   "source": [
    "dateaxis = data.reset_index()['Date']"
   ]
  },
  {
   "cell_type": "code",
   "execution_count": 18,
   "metadata": {
    "collapsed": false
   },
   "outputs": [
    {
     "data": {
      "text/plain": [
       "Timestamp('2015-09-01 00:00:00')"
      ]
     },
     "execution_count": 18,
     "metadata": {},
     "output_type": "execute_result"
    }
   ],
   "source": [
    "dateaxis[0]"
   ]
  },
  {
   "cell_type": "code",
   "execution_count": 33,
   "metadata": {
    "collapsed": false
   },
   "outputs": [
    {
     "data": {
      "image/png": "[encoded data removed]",
      "text/plain": [
       "<matplotlib.figure.Figure at 0x10b97b590>"
      ]
     },
     "metadata": {},
     "output_type": "display_data"
    }
   ],
   "source": [
    "#plt.plot(dateaxis, series.ix[:,i], label=debtarray[i][4:-12], marker='.')\n",
    "#myFont = FontProperties()\n",
    "#myFont.set_size('xx-small')\n",
    "plt.plot(dateaxis, close_data, marker='.')\n",
    "plt.tick_params(axis='both', which='major', labelsize=8)\n"
   ]
  },
  {
   "cell_type": "code",
   "execution_count": 30,
   "metadata": {
    "collapsed": false
   },
   "outputs": [],
   "source": [
    "myFont = FontProperties()\n",
    "myFont.set_size('xx-small')"
   ]
  },
  {
   "cell_type": "code",
   "execution_count": null,
   "metadata": {
    "collapsed": true
   },
   "outputs": [],
   "source": []
  }
 ],
 "metadata": {
  "kernelspec": {
   "display_name": "Python 2",
   "language": "python",
   "name": "python2"
  },
  "language_info": {
   "codemirror_mode": {
    "name": "ipython",
    "version": 2
   },
   "file_extension": ".py",
   "mimetype": "text/x-python",
   "name": "python",
   "nbconvert_exporter": "python",
   "pygments_lexer": "ipython2",
   "version": "2.7.10"
  }
 },
 "nbformat": 4,
 "nbformat_minor": 0
}
